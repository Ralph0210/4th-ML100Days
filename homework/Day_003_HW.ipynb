{
 "cells": [
  {
   "cell_type": "code",
   "execution_count": null,
   "metadata": {},
   "outputs": [],
   "source": [
    "\"\"\"\n",
    "\n",
    "\n",
    "\n",
    "目標：Personalized hey siri\n",
    "\n",
    "Improve speaker recognition(SR)\n",
    "\n",
    "\n",
    "方法：\n",
    "1.Improve speaker recognition(SR)\n",
    "    a.User enrollment: Converts the incoming speech utterance to a fixed-length speech (super)vector( includes information about the phonetic content, the background recording environment, and the identity of the speaker.)\n",
    "    b.Recognition: Focuses on speaker-specific characteristics and deemphasizes variabilities attributed to phonetic and environmental factors.\n",
    "\n",
    "2.Improve speaker transformation:\n",
    "Utilizing Linear Discriminant Analysis (LDA) using data from 800 production users with more than 100 utterances each and produced a 150-dimensional speaker vector, they extract a corresponding speaker vector for every incoming test utterance and compute its cosine score. Then, they add the latest accepted speaker vector to the user profile.\n",
    "\n",
    "\n",
    "資料來源：Apple Machine Learning journal\n",
    "\n",
    "\n",
    "\n",
    "\n",
    "\n",
    "\n",
    "\"\"\""
   ]
  }
 ],
 "metadata": {
  "kernelspec": {
   "display_name": "Python 3",
   "language": "python",
   "name": "python3"
  },
  "language_info": {
   "codemirror_mode": {
    "name": "ipython",
    "version": 3
   },
   "file_extension": ".py",
   "mimetype": "text/x-python",
   "name": "python",
   "nbconvert_exporter": "python",
   "pygments_lexer": "ipython3",
   "version": "3.7.4"
  }
 },
 "nbformat": 4,
 "nbformat_minor": 2
}
