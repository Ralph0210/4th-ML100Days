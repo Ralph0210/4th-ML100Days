{
 "cells": [
  {
   "cell_type": "code",
   "execution_count": null,
   "metadata": {},
   "outputs": [],
   "source": [
    "\"\"\"\n",
    "請找出一個你認為機器學習可以發光發熱的領域並闡述原因?\n",
    "\n",
    "音樂界（流行音樂界）\n",
    "Machine learning 可以改變 1.作曲 2.錄音 3.混音 4.廣告(of course) 的所有方法，使音樂作品更自然、創作模式更直覺，與有效打動特定客群。\n",
    "1.作曲\n",
    "    a.早已有用電腦寫出的曲子受到廣大歡迎的例子，可利用Machine learning收集當代觀眾最喜歡之音樂類型並依照所建立模型作曲。\n",
    "    b.利用Machine learning蒐集創作者創作時喜好並推薦類似資源在創作軟件上，使創作者在創作時無論是音效或譜曲能更直覺、更個人化 ＝ 更有特殊風格。\n",
    "    c.利用Machine learning推薦創作者旋律、和弦、織體與曲式。\n",
    "    d.利用Machine learning蒐集與混合不同曲風，創造出新穎樂類。\n",
    "\n",
    "2.錄音\n",
    "    a.早已有利用Machine learning演算去除雜音，並凸顯收音目標。\n",
    "    b.利用Machine learning優化樂器軟件，使之產出音效更加自然。\n",
    "    \n",
    "3.混音\n",
    "    a.早已有利用Machine learning優化原曲的軟件。\n",
    "    b.利用Machine learning推算適合觀眾的混音風格。\n",
    "    \n",
    "可以發光發熱的原因:\n",
    "音樂創作與混音一向是靠著人腦蒐集資料並發想。利用Machine learning將此一步直覺化能節省時間腦力與各類經費。\n",
    "\n",
    "\"\"\""
   ]
  }
 ],
 "metadata": {
  "kernelspec": {
   "display_name": "Python 3",
   "language": "python",
   "name": "python3"
  },
  "language_info": {
   "codemirror_mode": {
    "name": "ipython",
    "version": 3
   },
   "file_extension": ".py",
   "mimetype": "text/x-python",
   "name": "python",
   "nbconvert_exporter": "python",
   "pygments_lexer": "ipython3",
   "version": "3.7.4"
  }
 },
 "nbformat": 4,
 "nbformat_minor": 2
}
